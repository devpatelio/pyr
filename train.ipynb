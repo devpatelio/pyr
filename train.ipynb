{
 "cells": [
  {
   "cell_type": "code",
   "execution_count": null,
   "metadata": {},
   "outputs": [],
   "source": [
    "from roboflow import Roboflow\n",
    "rf = Roboflow(api_key=\"5cz58H0npnfdxRx1rRHj\")\n",
    "project = rf.workspace(\"parking-spot-detection\").project(\"bccd_custom\")\n",
    "dataset = project.version(1).download(\"yolov5\")\n"
   ]
  }
 ],
 "metadata": {
  "language_info": {
   "name": "python"
  }
 },
 "nbformat": 4,
 "nbformat_minor": 2
}
